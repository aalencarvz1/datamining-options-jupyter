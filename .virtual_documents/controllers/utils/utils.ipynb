import pandas as pd
import ipywidgets as widgets
from IPython.display import display

def mostrar_dataframe_interativo(df, linhas_iniciais=10, incremento=5):
    """
    Exibe um DataFrame de forma interativa, permitindo ao usuário ajustar a quantidade de linhas mostradas por vez.

    Parâmetros:
    df (pd.DataFrame): O DataFrame a ser exibido.
    linhas_iniciais (int): Número inicial de linhas a serem mostradas.
    incremento (int): O número de linhas por vez a serem exibidas ao ajustar o slider.
    """
    
    max_linhas = len(df)
    
    # Função interna para exibir as linhas do DataFrame com base no slider
    def atualizar_exibicao(linhas_exibidas, linhas_por_vez):
        inicio = max(0, linhas_exibidas - linhas_por_vez)
        fim = linhas_exibidas
        display(df.iloc[inicio:fim])
    
    # Slider para ajustar a quantidade de linhas mostradas por vez
    slider = widgets.IntSlider(
        value=linhas_iniciais, 
        min=linhas_iniciais, 
        max=max_linhas, 
        step=incremento, 
        description='Linhas até:'
    )
    
    # Slider para o número de linhas a serem mostradas por vez
    linhas_por_vez_slider = widgets.IntSlider(
        value=linhas_iniciais,
        min=incremento,
        max=max_linhas,
        step=incremento,
        description='Linhas por vez:'
    )
    
    # Faz o controle interativo ligando os sliders com a função de exibição
    interativo = widgets.interactive_output(
        atualizar_exibicao, 
        {'linhas_exibidas': slider, 'linhas_por_vez': linhas_por_vez_slider}
    )
    
    # Exibe os sliders e o DataFrame interativo
    display(slider, linhas_por_vez_slider, interativo)

"""# Exemplo de uso:
df_exemplo = pd.DataFrame({
    'col1': range(1, 101),
    'col2': range(101, 201)
})

# Chamar a função com uma linha de código
mostrar_dataframe_interativo(df_exemplo)
"""
